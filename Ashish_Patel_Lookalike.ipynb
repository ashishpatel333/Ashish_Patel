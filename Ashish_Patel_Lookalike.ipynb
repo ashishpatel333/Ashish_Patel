{
  "nbformat": 4,
  "nbformat_minor": 0,
  "metadata": {
    "colab": {
      "provenance": []
    },
    "kernelspec": {
      "name": "python3",
      "display_name": "Python 3"
    },
    "language_info": {
      "name": "python"
    }
  },
  "cells": [
    {
      "cell_type": "code",
      "source": [
        "# Import necessary libraries\n",
        "import pandas as pd\n",
        "from sklearn.metrics.pairwise import cosine_similarity\n",
        "from sklearn.preprocessing import StandardScaler\n",
        "\n",
        "# Load the datasets\n",
        "transactions_df = pd.read_csv('TASK2/Transactions.csv')\n",
        "customers_df = pd.read_csv('TASK2/Customers.csv')\n",
        "products_df = pd.read_csv('TASK2/Products.csv')\n"
      ],
      "metadata": {
        "id": "DaoS82LmuEqS"
      },
      "execution_count": 27,
      "outputs": []
    },
    {
      "cell_type": "code",
      "source": [
        "# Merge datasets to create a unified dataset\n",
        "merged_df = transactions_df.merge(products_df, on=\"ProductID\", how=\"left\")\n",
        "merged_df = merged_df.merge(customers_df, on=\"CustomerID\", how=\"left\")\n",
        "\n",
        "# Calculate customer-level features (aggregate transaction history)\n",
        "customer_features = merged_df.groupby('CustomerID').agg({\n",
        "    'TotalValue': 'sum',          # Total spending\n",
        "    'Quantity': 'sum',            # Total products purchased\n",
        "    'Category': lambda x: x.mode()[0],  # Most frequent product category\n",
        "    'Region': lambda x: x.mode()[0]     # Most common region\n",
        "}).reset_index()"
      ],
      "metadata": {
        "id": "Pwm5a3_7vX-j"
      },
      "execution_count": 28,
      "outputs": []
    },
    {
      "cell_type": "code",
      "source": [
        "# Encode categorical features (e.g., Category, Region)\n",
        "customer_features = pd.get_dummies(customer_features, columns=['Category', 'Region'], drop_first=True)\n",
        "\n",
        "# Standardize numeric features for similarity calculation\n",
        "scaler = StandardScaler()\n",
        "numeric_columns = ['TotalValue', 'Quantity']\n",
        "customer_features[numeric_columns] = scaler.fit_transform(customer_features[numeric_columns])\n",
        "\n",
        "# Compute cosine similarity between customers\n",
        "similarity_matrix = cosine_similarity(customer_features.iloc[:, 1:])\n",
        "similarity_df = pd.DataFrame(similarity_matrix, index=customer_features['CustomerID'], columns=customer_features['CustomerID'])"
      ],
      "metadata": {
        "id": "g8jRojnAvZJ5"
      },
      "execution_count": 29,
      "outputs": []
    },
    {
      "cell_type": "code",
      "source": [
        "# Function to get top 3 similar customers for a given customer\n",
        "def get_top_similar(customers, customer_id, n=3):\n",
        "    similar_customers = customers.loc[customer_id].sort_values(ascending=False)[1:n+1]\n",
        "    return [(idx, round(score, 4)) for idx, score in similar_customers.items()]\n",
        "\n",
        "# Generate Lookalike map for the first 20 customers\n",
        "lookalike_map = {}\n",
        "for customer_id in customers_df['CustomerID'][:20]:\n",
        "    lookalike_map[customer_id] = get_top_similar(similarity_df, customer_id)\n",
        "\n",
        "# Convert lookalike map into a DataFrame for saving\n",
        "lookalike_df = pd.DataFrame([\n",
        "    {'cust_id': cust_id, 'lookalikes': lookalikes}\n",
        "    for cust_id, lookalikes in lookalike_map.items()\n",
        "])\n"
      ],
      "metadata": {
        "id": "Gy7YwMUAveJm"
      },
      "execution_count": 30,
      "outputs": []
    },
    {
      "cell_type": "code",
      "source": [
        "# Save the results to a CSV file\n",
        "lookalike_df.to_csv(\"Lookalike.csv\", index=False)\n",
        "\n",
        "# -------------------\n",
        "# Summary and Explanation:\n",
        "# -------------------\n",
        "print(\"Lookalike Map for First 20 Customers:\")\n",
        "print(lookalike_df.head(20))\n"
      ],
      "metadata": {
        "colab": {
          "base_uri": "https://localhost:8080/"
        },
        "id": "pGAvm4JyvkrH",
        "outputId": "f45bf43e-86ec-44eb-c98b-381f92f078c6"
      },
      "execution_count": 31,
      "outputs": [
        {
          "output_type": "stream",
          "name": "stdout",
          "text": [
            "Lookalike Map for First 20 Customers:\n",
            "   cust_id                                         lookalikes\n",
            "0    C0001  [(C0184, 0.9935), (C0048, 0.982), (C0190, 0.96...\n",
            "1    C0002  [(C0088, 0.9961), (C0092, 0.8988), (C0077, 0.8...\n",
            "2    C0003  [(C0076, 0.9404), (C0052, 0.9075), (C0031, 0.8...\n",
            "3    C0004  [(C0165, 0.984), (C0169, 0.981), (C0087, 0.9627)]\n",
            "4    C0005  [(C0186, 0.9969), (C0140, 0.9912), (C0146, 0.9...\n",
            "5    C0006  [(C0187, 0.979), (C0126, 0.9785), (C0011, 0.95...\n",
            "6    C0007   [(C0146, 1.0), (C0005, 0.9847), (C0115, 0.9749)]\n",
            "7    C0008  [(C0065, 0.8535), (C0136, 0.8478), (C0059, 0.8...\n",
            "8    C0009   [(C0198, 1.0), (C0061, 0.9675), (C0062, 0.9583)]\n",
            "9    C0010  [(C0062, 0.9396), (C0111, 0.9244), (C0103, 0.8...\n",
            "10   C0011  [(C0006, 0.9571), (C0137, 0.9276), (C0126, 0.9...\n",
            "11   C0012  [(C0163, 0.9927), (C0104, 0.9716), (C0113, 0.9...\n",
            "12   C0013  [(C0099, 0.986), (C0108, 0.961), (C0155, 0.8791)]\n",
            "13   C0014  [(C0060, 0.9994), (C0097, 0.9353), (C0128, 0.9...\n",
            "14   C0015  [(C0131, 0.982), (C0036, 0.9698), (C0094, 0.93...\n",
            "15   C0016  [(C0183, 0.9763), (C0067, 0.9006), (C0098, 0.8...\n",
            "16   C0017  [(C0075, 0.9713), (C0041, 0.9657), (C0057, 0.9...\n",
            "17   C0018  [(C0122, 0.9885), (C0046, 0.9792), (C0156, 0.9...\n",
            "18   C0019  [(C0073, 0.9928), (C0132, 0.9511), (C0167, 0.9...\n",
            "19   C0020  [(C0015, 0.9186), (C0140, 0.9058), (C0186, 0.8...\n"
          ]
        }
      ]
    }
  ]
}